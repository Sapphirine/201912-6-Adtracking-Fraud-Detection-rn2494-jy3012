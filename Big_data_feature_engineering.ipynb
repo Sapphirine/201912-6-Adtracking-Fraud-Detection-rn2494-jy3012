{
  "nbformat": 4,
  "nbformat_minor": 0,
  "metadata": {
    "colab": {
      "name": "Big_data_feature_engineering",
      "provenance": [],
      "collapsed_sections": [],
      "machine_shape": "hm"
    },
    "kernelspec": {
      "name": "python3",
      "display_name": "Python 3"
    },
    "accelerator": "GPU"
  },
  "cells": [
    {
      "cell_type": "markdown",
      "metadata": {
        "id": "Ii_X7v2SdU9X",
        "colab_type": "text"
      },
      "source": [
        "Data Processing and feature engineering"
      ]
    },
    {
      "cell_type": "code",
      "metadata": {
        "id": "zPLWY0X0Tanc",
        "colab_type": "code",
        "colab": {}
      },
      "source": [
        "import numpy as np\n",
        "import pandas as pd\n",
        "from matplotlib import pyplot as plt\n",
        "import matplotlib as mpl\n",
        "import scipy.stats as st\n",
        "import gc\n",
        "import xgboost as xgb\n",
        "import warnings\n",
        "from sklearn import ensemble, tree\n",
        "from sklearn.svm import SVC, LinearSVC\n",
        "from sklearn.ensemble import RandomForestClassifier\n",
        "from sklearn.tree import DecisionTreeClassifier\n",
        "from sklearn.linear_model import LogisticRegression\n",
        "from sklearn.model_selection import train_test_split \n",
        "from sklearn.metrics import roc_auc_score\n",
        "from sklearn.utils import resample\n",
        "warnings.filterwarnings('ignore')\n",
        "%matplotlib inline"
      ],
      "execution_count": 0,
      "outputs": []
    },
    {
      "cell_type": "code",
      "metadata": {
        "id": "YwNxivuATfzH",
        "colab_type": "code",
        "colab": {}
      },
      "source": [
        "#Defining the machine learning models\n",
        "def Train_Decision_tree(X_training, y_training, X_valid, y_valid):\n",
        "    dt_clf = DecisionTreeClassifier()\n",
        "    dt_clf.fit(X_training, y_training)\n",
        "    pred_dt = dt_clf.predict(X_valid)\n",
        "    Decision_tree_accuracy = roc_auc_score(y_valid, pred_dt)\n",
        "    print('Decision_tree_AUC_ROC=\\n', Decision_tree_accuracy)\n",
        "    Trained_Decision_tree_Model = dt_clf\n",
        "\n",
        "    return Trained_Decision_tree_Model, Decision_tree_accuracy\n",
        "    \n",
        "def Train_Random_forest(X_training, y_training, X_valid, y_valid):\n",
        "    rf_clf = RandomForestClassifier(n_estimators=50, n_jobs=-1)\n",
        "    rf_model = rf_clf.fit(X_training, y_training)\n",
        "    pred_rf = rf_clf.predict(X_valid)\n",
        "    Random_forest_accuracy = roc_auc_score(y_valid, pred_rf)\n",
        "    print('Random_forest_AUC_ROC=\\n', Random_forest_accuracy)\n",
        "    Trained_Random_forest_Model = rf_clf\n",
        "    return Trained_Random_forest_Model, Random_forest_accuracy\n",
        "    \n",
        "def Train_logistic_regression(X_training, y_training, X_valid, y_valid):\n",
        "    logreg_clf = LogisticRegression()\n",
        "    logreg_clf.fit(X_training, y_training)\n",
        "    pred_logreg = logreg_clf.predict(X_valid)\n",
        "    logistic_regression_accuracy = roc_auc_score(y_valid, pred_logreg)\n",
        "    print('logistic_regression_AUC_ROC=\\n', logistic_regression_accuracy)\n",
        "    Trained_logistic_regression_Model = logreg_clf\n",
        "    return Trained_logistic_regression_Model, logistic_regression_accuracy\n",
        "    \n",
        "def Train_support_vector_machine(X_training, y_training, X_valid, y_valid):\n",
        "    linsvc_clf = LinearSVC()\n",
        "    linsvc_clf.fit(X_training, y_training)\n",
        "    pred_linsvc = linsvc_clf.predict(X_valid)\n",
        "    support_vector_machine_accuracy = roc_auc_score(y_valid, pred_linsvc)\n",
        "    print('support_vector_AUC_ROC=\\n', support_vector_machine_accuracy)\n",
        "    Trained_support_vector_machine_Model = linsvc_clf\n",
        "    return Trained_support_vector_machine_Model, support_vector_machine_accuracy\n",
        "    \n",
        "def Train_XGBoost(X_training, y_training, X_valid, y_valid):\n",
        "\n",
        "    XGB_model = XGBClassifier(learning_rate =0.1,\n",
        "                              n_estimators=1000,\n",
        "                              max_depth=15,\n",
        "                              min_child_weight=1,\n",
        "                              gamma=0,\n",
        "                              subsample=0.8,\n",
        "                              colsample_bytree=0.8,\n",
        "                              objective= 'binary:logistic',\n",
        "                              nthread=4,\n",
        "                              scale_pos_weight=1,\n",
        "                              seed=27)\n",
        "     \n",
        "    XGB_model.fit(X_training, y_training)\n",
        "    pred_XGB = XGB_model.predict(X_valid)\n",
        "    pred_XGB = [round(value) for value in pred_XGB]\n",
        "    XGBoost_accuracy = roc_auc_score(y_valid, pred_XGB)\n",
        "    print('XGBoost_AUC_ROC=\\n', XGBoost_accuracy)\n",
        "    Trained_XGBoost_Model = XGB_model\n",
        "    return Trained_XGBoost_Model, XGBoost_accuracy"
      ],
      "execution_count": 0,
      "outputs": []
    },
    {
      "cell_type": "code",
      "metadata": {
        "id": "lZVp0sUWRnkg",
        "colab_type": "code",
        "colab": {}
      },
      "source": [
        "df = pd.read_csv('/content/gdrive/My Drive/Big_data_project/train/mnt/ssd/kaggle-talkingdata2/competition_files/train.csv', parse_dates=['click_time'])\n",
        "print(df.shape)\n",
        "df.dtypes"
      ],
      "execution_count": 0,
      "outputs": []
    },
    {
      "cell_type": "code",
      "metadata": {
        "id": "4xD4ZXIuaLMh",
        "colab_type": "code",
        "colab": {}
      },
      "source": [
        "def upsample(df): \n",
        "    y=df['is_attributed']\n",
        "    X=df.drop('is_attributed',axis=1)\n",
        "    X_train, X_test, y_train, y_test = train_test_split(X, y, test_size=0.25, random_state=27)\n",
        "    X = pd.concat([X_train, y_train], axis=1)\n",
        "    download=X[X['is_attributed']==1]\n",
        "    not_download=X[X['is_attributed']==0]\n",
        "    download_upsampled = resample(download, replace=True,  n_samples=len(not_download), random_state=27) \n",
        "    # combine majority and upsampled minority\n",
        "    upsampled = pd.concat([not_download, download_upsampled])\n",
        "    # check new class counts\n",
        "    print(upsampled.is_attributed.value_counts())\n",
        "    y_train=upsampled['is_attributed']\n",
        "    X_train=upsampled.drop('is_attributed',axis=1)\n",
        "    \n",
        "    return X_train,X_test,y_train, y_test\n",
        "\n",
        "def downsample(df):\n",
        "    y=df['is_attributed']\n",
        "    X=df.drop('is_attributed',axis=1)\n",
        "    X_train, X_test, y_train, y_test = train_test_split(X, y, test_size=0.25, random_state=27)\n",
        "    X = pd.concat([X_train, y_train], axis=1)\n",
        "    download=X[X['is_attributed']==1]\n",
        "    not_download=X[X['is_attributed']==0]\n",
        "    not_download_downsampled = resample(not_download,replace = False,  n_samples = len(download), random_state = 27) \n",
        "    # combine minority and downsampled majority\n",
        "    downsampled = pd.concat([not_download_downsampled, download])\n",
        "    # checking counts\n",
        "    print(downsampled.is_attributed.value_counts())\n",
        "    y_train=downsampled['is_attributed']\n",
        "    X_train=downsampled.drop('is_attributed',axis=1)\n",
        "\n",
        "    return X_train,X_test,y_train, y_test\n",
        "\n",
        "from imblearn.over_sampling import SMOTE\n",
        "\n",
        "# Separate input features and target\n",
        "def SMOTE_data(df):\n",
        "    y=df['is_attributed']\n",
        "    X=df.drop('is_attributed',axis=1)\n",
        "    X_train, X_test, y_train, y_test = train_test_split(X, y, test_size=0.25, random_state=27)\n",
        "    col_names = ['attributed_time','click_time', 'ip']\n",
        "    X_train = X_train.drop(col_names, axis=1)\n",
        "    X_test = X_test.drop(col_names, axis=1)\n",
        "    sm = SMOTE(random_state=27, ratio=1.0)\n",
        "    X_train, y_train = sm.fit_sample(X_train, y_train)\n",
        "\n",
        "    return X_train,X_test,y_train, y_test"
      ],
      "execution_count": 0,
      "outputs": []
    },
    {
      "cell_type": "code",
      "metadata": {
        "id": "piIClv3vWdMD",
        "colab_type": "code",
        "outputId": "d0045c4b-fbcb-4bbe-d896-c5b63f7c7614",
        "colab": {
          "base_uri": "https://localhost:8080/",
          "height": 248
        }
      },
      "source": [
        "#Upsample\n",
        "X_train,X_test,y_train, y_test=upsample(df)\n",
        "col_names = ['attributed_time','click_time', 'ip']\n",
        "X_train = X_train.drop(col_names, axis=1)\n",
        "X_test = X_test.drop(col_names, axis=1)\n",
        "Trained_Decision_tree_Model, Decision_tree_accuracy = Train_Decision_tree(X_train, y_train, X_test, y_test)\n",
        "Trained_support_vector_machine_Model, support_vector_machine_accuracy = Train_support_vector_machine(X_train, y_train, X_test, y_test)\n",
        "Trained_Random_forest_Model, Random_forest_accuracy = Train_Random_forest(X_train, y_train, X_test, y_test)\n",
        "Trained_logistic_regression_Model, logistic_regression_accuracy = Train_logistic_regression(X_train, y_train, X_test, y_test)\n",
        "Trained_XGBoost_Model, XGBoost_accuracy = Train_XGBoost(X_train, y_train, X_test, y_test)"
      ],
      "execution_count": 0,
      "outputs": [
        {
          "output_type": "stream",
          "text": [
            "1    74815\n",
            "0    74815\n",
            "Name: is_attributed, dtype: int64\n",
            "Decision_tree_AUC_ROC=\n",
            " 0.7881030607611264\n",
            "support_vector_AUC_ROC=\n",
            " 0.6874949915858644\n",
            "Random_forest_AUC_ROC=\n",
            " 0.811952651883736\n",
            "logistic_regression_AUC_ROC=\n",
            " 0.6921418459201936\n",
            "XGBoost_AUC_ROC=\n",
            " 0.811972685540279\n"
          ],
          "name": "stdout"
        }
      ]
    },
    {
      "cell_type": "code",
      "metadata": {
        "id": "LvF06q8gf4QQ",
        "colab_type": "code",
        "outputId": "72447977-7934-484c-b2a5-d004a3a6e04d",
        "colab": {
          "base_uri": "https://localhost:8080/",
          "height": 195
        }
      },
      "source": [
        "#Downsample\n",
        "X_train,X_test,y_train, y_test=downsample(df)\n",
        "col_names = ['attributed_time','click_time', 'ip']\n",
        "X_train = X_train.drop(col_names, axis=1)\n",
        "X_test = X_test.drop(col_names, axis=1)\n",
        "Trained_Decision_tree_Model, Decision_tree_accuracy = Train_Decision_tree(X_train, y_train, X_test, y_test)\n",
        "Trained_support_vector_machine_Model, support_vector_machine_accuracy = Train_support_vector_machine(X_train, y_train, X_test, y_test)\n",
        "Trained_Random_forest_Model, Random_forest_accuracy = Train_Random_forest(X_train, y_train, X_test, y_test)\n",
        "Trained_logistic_regression_Model, logistic_regression_accuracy = Train_logistic_regression(X_train, y_train, X_test, y_test)\n",
        "Trained_XGBoost_Model, XGBoost_accuracy = Train_XGBoost(X_train, y_train, X_test, y_test)"
      ],
      "execution_count": 0,
      "outputs": [
        {
          "output_type": "stream",
          "text": [
            "Decision_tree_AUC_ROC=\n",
            " 0.8822831881370227\n",
            "support_vector_AUC_ROC=\n",
            " 0.5263347185175857\n",
            "Random_forest_AUC_ROC=\n",
            " 0.9087476484303153\n",
            "logistic_regression_AUC_ROC=\n",
            " 0.6899581773570075\n",
            "XGBoost_AUC_ROC=\n",
            " 0.9127190823440523\n"
          ],
          "name": "stdout"
        }
      ]
    },
    {
      "cell_type": "code",
      "metadata": {
        "colab_type": "code",
        "id": "eW9mxlMualKt",
        "colab": {}
      },
      "source": [
        "#Not used in final because of performance\n",
        "def feature_engineering(df1):\n",
        "\n",
        "  df1['day'] = df1['click_time'].dt.day.astype('uint8')\n",
        "  df1['hour'] = df1['click_time'].dt.hour.astype('uint8')\n",
        "  df1['minute'] = df1['click_time'].dt.minute.astype('uint8')\n",
        "  df1['second'] = df1['click_time'].dt.second.astype('uint8')\n",
        "\n",
        "  print('grouping by ip-channel combination')\n",
        "  # Count the number of clicks by ip\n",
        "  gp = df1[['ip','channel']].groupby(['ip'])[['channel']].count().reset_index().rename(index=str, columns={'channel':'ip_clickcount'})\n",
        "  df1 = df1.merge(gp, on='ip', how='left', sort=False)\n",
        "  del gp\n",
        "\n",
        "  print('grouping by ip-day-hour combination')\n",
        "  gp = df1[['ip','day','hour','channel']].groupby(by=['ip','day','hour'])[['channel']].count().reset_index().rename(index=str, columns={'channel': 'ip_tcount'})\n",
        "  df1 = df1.merge(gp, on=['ip','day','hour'], how='left',sort=False)\n",
        "  del gp\n",
        "\n",
        "  print('grouping by ip-app combination')\n",
        "  gp = df1[['ip', 'app', 'channel']].groupby(by=['ip', 'app'])[['channel']].count().reset_index().rename(index=str, columns={'channel': 'ip_app_count'})\n",
        "  df1 = df1.merge(gp, on=['ip','app'], how='left',sort=False)\n",
        "  del gp\n",
        "\n",
        "  print('grouping by ip-app-os combination')\n",
        "  gp = df1[['ip','app', 'os', 'channel']].groupby(by=['ip', 'app', 'os'])[['channel']].count().reset_index().rename(index=str, columns={'channel': 'ip_app_os_count'})\n",
        "  df1 = df1.merge(gp, on=['ip','app', 'os'], how='left',sort=False)\n",
        "  del gp\n",
        "\n",
        "  colmn_names = ['attributed_time','click_time', 'ip']\n",
        "  df1 = df1.drop(colmn_names, axis=1)\n",
        "\n",
        "  return df1"
      ],
      "execution_count": 0,
      "outputs": []
    },
    {
      "cell_type": "code",
      "metadata": {
        "id": "t-4Nw0F0odOZ",
        "colab_type": "code",
        "outputId": "15b736e5-30ef-4eb8-b59e-38668ac98971",
        "colab": {
          "base_uri": "https://localhost:8080/",
          "height": 1000
        }
      },
      "source": [
        "X_train,X_test,y_train, y_test=downsample(df)\n",
        "X_train=feature_engineering(X_train)\n",
        "X_test=feature_engineering(X_test)"
      ],
      "execution_count": 0,
      "outputs": [
        {
          "output_type": "stream",
          "text": [
            "1    185\n",
            "0    185\n",
            "Name: is_attributed, dtype: int64\n",
            "grouping by ip-channel combination...\n",
            "grouping by ip-day-hour combination...\n",
            "grouping by ip-app combination...\n",
            "grouping by ip-app-os combination...\n",
            "grouping by ip-app-chl-mean-hour  combination...\n",
            "vars and data type: \n",
            "<class 'pandas.core.frame.DataFrame'>\n",
            "Int64Index: 370 entries, 0 to 369\n",
            "Data columns (total 16 columns):\n",
            "ip                          370 non-null int64\n",
            "app                         370 non-null int64\n",
            "device                      370 non-null int64\n",
            "os                          370 non-null int64\n",
            "channel                     370 non-null int64\n",
            "click_time                  370 non-null datetime64[ns]\n",
            "attributed_time             185 non-null object\n",
            "day                         370 non-null uint8\n",
            "hour                        370 non-null uint8\n",
            "minute                      370 non-null uint8\n",
            "second                      370 non-null uint8\n",
            "ip_clickcount               370 non-null int64\n",
            "ip_tcount                   370 non-null int64\n",
            "ip_app_count                370 non-null int64\n",
            "ip_app_os_count             370 non-null int64\n",
            "ip_app_channel_mean_hour    370 non-null uint8\n",
            "dtypes: datetime64[ns](1), int64(9), object(1), uint8(5)\n",
            "memory usage: 36.5+ KB\n",
            "None\n",
            "grouping by ip-channel combination...\n",
            "grouping by ip-day-hour combination...\n",
            "grouping by ip-app combination...\n",
            "grouping by ip-app-os combination...\n",
            "grouping by ip-app-chl-mean-hour  combination...\n",
            "vars and data type: \n",
            "<class 'pandas.core.frame.DataFrame'>\n",
            "Int64Index: 25000 entries, 0 to 24999\n",
            "Data columns (total 16 columns):\n",
            "ip                          25000 non-null int64\n",
            "app                         25000 non-null int64\n",
            "device                      25000 non-null int64\n",
            "os                          25000 non-null int64\n",
            "channel                     25000 non-null int64\n",
            "click_time                  25000 non-null datetime64[ns]\n",
            "attributed_time             42 non-null object\n",
            "day                         25000 non-null uint8\n",
            "hour                        25000 non-null uint8\n",
            "minute                      25000 non-null uint8\n",
            "second                      25000 non-null uint8\n",
            "ip_clickcount               25000 non-null int64\n",
            "ip_tcount                   25000 non-null int64\n",
            "ip_app_count                25000 non-null int64\n",
            "ip_app_os_count             25000 non-null int64\n",
            "ip_app_channel_mean_hour    25000 non-null float64\n",
            "dtypes: datetime64[ns](1), float64(1), int64(9), object(1), uint8(4)\n",
            "memory usage: 2.6+ MB\n",
            "None\n"
          ],
          "name": "stdout"
        }
      ]
    },
    {
      "cell_type": "code",
      "metadata": {
        "id": "oCm8TjUFcASF",
        "colab_type": "code",
        "outputId": "3330ba16-1572-49d8-e131-11e49238ddf4",
        "colab": {
          "base_uri": "https://localhost:8080/",
          "height": 195
        }
      },
      "source": [
        "Trained_Decision_tree_Model, Decision_tree_accuracy = Train_Decision_tree(X_train, y_train, X_test, y_test)\n",
        "Trained_support_vector_machine_Model, support_vector_machine_accuracy = Train_support_vector_machine(X_train, y_train, X_test, y_test)  \n",
        "Trained_Random_forest_Model, Random_forest_accuracy = Train_Random_forest(X_train, y_train, X_test, y_test)\n",
        "Trained_logistic_regression_Model, logistic_regression_accuracy = Train_logistic_regression(X_train, y_train, X_test, y_test)\n",
        "Trained_XGBoost_Model, XGBoost_accuracy = Train_XGBoost(X_train, y_train, X_test, y_test)"
      ],
      "execution_count": 0,
      "outputs": [
        {
          "output_type": "stream",
          "text": [
            "Decision_tree_AUC_ROC=\n",
            " 0.7836174296627858\n",
            "support_vector_AUC_ROC=\n",
            " 0.5648718418371435\n",
            "Random_forest_AUC_ROC=\n",
            " 0.8786427865480675\n",
            "logistic_regression_AUC_ROC=\n",
            " 0.6655619536058673\n",
            "XGBoost_AUC_ROC=\n",
            " 0.895180093032485\n"
          ],
          "name": "stdout"
        }
      ]
    },
    {
      "cell_type": "code",
      "metadata": {
        "id": "fWJVX7W8KBZI",
        "colab_type": "code",
        "colab": {}
      },
      "source": [
        "df_train = pd.read_csv('/content/gdrive/My Drive/Big_data_project/train_sample/mnt/ssd/kaggle-talkingdata2/competition_files/train_sample.csv', parse_dates=['click_time'])"
      ],
      "execution_count": 0,
      "outputs": []
    },
    {
      "cell_type": "code",
      "metadata": {
        "id": "AKxeUEPCI7v0",
        "colab_type": "code",
        "colab": {}
      },
      "source": [
        "#Used for final Version:\n",
        "#Some feature dropped in final version\n",
        "def feature_extraction(df_train):\n",
        "  df_train['dow'] = df_train['click_time'].dt.dayofweek.astype('uint16')\n",
        "  df_train['doy'] = df_train['click_time'].dt.dayofyear.astype('uint16')\n",
        "  df_train['hour'] = df_train['click_time'].dt.hour.astype('uint16')\n",
        "  features_clicks = ['ip', 'app', 'os', 'device']\n",
        "\n",
        "  for col in features_clicks:\n",
        "      col_count_dict = dict(df_train[[col]].groupby(col).size().sort_index())\n",
        "      # train\n",
        "      df_train['{}_clicks'.format(col)] = df_train[col].map(col_count_dict).astype('uint16')\n",
        "\n",
        "  features_comb_list = [('app', 'device'), ('ip', 'app'), ('app', 'os')]\n",
        "  for (col_a, col_b) in features_comb_list:\n",
        "      df = df_train.groupby([col_a, col_b]).size().astype('uint16')\n",
        "      df = pd.DataFrame(df, columns=['{}_{}_comb_clicks'.format(col_a, col_b)]).reset_index()      \n",
        "      # train\n",
        "      df_train = df_train.merge(df, how='left', on=[col_a, col_b])\n",
        "    \n",
        "  print(df_train.columns)\n",
        "  new_features = [\n",
        "    'app',\n",
        "    'device',\n",
        "    'os',\n",
        "    'channel',\n",
        "    'hour',\n",
        "    'dow',\n",
        "    'doy',\n",
        "    'ip_clicks',\n",
        "    'app_clicks',\n",
        "    'os_clicks',\n",
        "    'device_clicks',\n",
        "    'app_device_comb_clicks',\n",
        "    'ip_app_comb_clicks',\n",
        "    'app_os_comb_clicks',\n",
        "    'is_attributed'\n",
        "  ]\n",
        "  df=df_train[new_features]\n",
        "\n",
        "  return df"
      ],
      "execution_count": 0,
      "outputs": []
    },
    {
      "cell_type": "code",
      "metadata": {
        "id": "QexOZF0MKyUO",
        "colab_type": "code",
        "outputId": "62deefa6-619d-4184-e0f6-2527bb2930ef",
        "colab": {
          "base_uri": "https://localhost:8080/",
          "height": 159
        }
      },
      "source": [
        "df1=feature_extraction(df_train)\n",
        "X_train,X_test,y_train, y_test=downsample(df1)"
      ],
      "execution_count": 0,
      "outputs": [
        {
          "output_type": "stream",
          "text": [
            "Index(['ip', 'app', 'device', 'os', 'channel', 'click_time', 'attributed_time',\n",
            "       'is_attributed', 'dow', 'doy', 'hour', 'ip_clicks', 'app_clicks',\n",
            "       'os_clicks', 'device_clicks', 'app_device_comb_clicks',\n",
            "       'ip_app_comb_clicks', 'app_os_comb_clicks'],\n",
            "      dtype='object')\n",
            "1    185\n",
            "0    185\n",
            "Name: is_attributed, dtype: int64\n"
          ],
          "name": "stdout"
        }
      ]
    },
    {
      "cell_type": "code",
      "metadata": {
        "id": "NzL0zcuaLFUv",
        "colab_type": "code",
        "outputId": "935adf6b-6a90-4a19-f938-7382254af9cc",
        "colab": {
          "base_uri": "https://localhost:8080/",
          "height": 195
        }
      },
      "source": [
        "Trained_Decision_tree_Model, Decision_tree_accuracy = Train_Decision_tree(X_train, y_train, X_test, y_test)\n",
        "Trained_support_vector_machine_Model, support_vector_machine_accuracy = Train_support_vector_machine(X_train, y_train, X_test, y_test)  \n",
        "Trained_Random_forest_Model, Random_forest_accuracy = Train_Random_forest(X_train, y_train, X_test, y_test)\n",
        "Trained_logistic_regression_Model, logistic_regression_accuracy = Train_logistic_regression(X_train, y_train, X_test, y_test)\n",
        "Trained_XGBoost_Model, XGBoost_accuracy = Train_XGBoost(X_train, y_train, X_test, y_test)"
      ],
      "execution_count": 0,
      "outputs": [
        {
          "output_type": "stream",
          "text": [
            "Decision_tree_AUC_ROC=\n",
            " 0.8929811607309803\n",
            "support_vector_AUC_ROC=\n",
            " 0.5605617437294654\n",
            "Random_forest_AUC_ROC=\n",
            " 0.9338498200786844\n",
            "logistic_regression_AUC_ROC=\n",
            " 0.8801243231486039\n",
            "XGBoost_AUC_ROC=\n",
            " 0.9216693569005452\n"
          ],
          "name": "stdout"
        }
      ]
    },
    {
      "cell_type": "code",
      "metadata": {
        "id": "HQ3grzZ1QfaI",
        "colab_type": "code",
        "colab": {}
      },
      "source": [
        ""
      ],
      "execution_count": 0,
      "outputs": []
    }
  ]
}